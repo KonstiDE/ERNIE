{
 "cells": [
  {
   "cell_type": "markdown",
   "source": [
    "### Load model created by analyse_docs(...)"
   ],
   "metadata": {
    "collapsed": false
   },
   "id": "9b4827133d378744"
  },
  {
   "cell_type": "code",
   "execution_count": 10,
   "outputs": [
    {
     "ename": "HFValidationError",
     "evalue": "Repo id must use alphanumeric chars or '-', '_', '.', '--' and '..' are forbidden, '-' and '.' cannot start or end the name, max length is 96: '../model'.",
     "output_type": "error",
     "traceback": [
      "\u001B[0;31m---------------------------------------------------------------------------\u001B[0m",
      "\u001B[0;31mHFValidationError\u001B[0m                         Traceback (most recent call last)",
      "Cell \u001B[0;32mIn[10], line 10\u001B[0m\n\u001B[1;32m      7\u001B[0m \u001B[38;5;28;01mimport\u001B[39;00m \u001B[38;5;21;01msys\u001B[39;00m\n\u001B[1;32m      8\u001B[0m sys\u001B[38;5;241m.\u001B[39mpath\u001B[38;5;241m.\u001B[39mappend(\u001B[38;5;124m\"\u001B[39m\u001B[38;5;124m/home/s371513/ernie/\u001B[39m\u001B[38;5;124m\"\u001B[39m)\n\u001B[0;32m---> 10\u001B[0m topic_model \u001B[38;5;241m=\u001B[39m \u001B[43mBERTopic\u001B[49m\u001B[38;5;241;43m.\u001B[39;49m\u001B[43mload\u001B[49m\u001B[43m(\u001B[49m\u001B[38;5;124;43m\"\u001B[39;49m\u001B[38;5;124;43m../model\u001B[39;49m\u001B[38;5;124;43m\"\u001B[39;49m\u001B[43m)\u001B[49m\n",
      "File \u001B[0;32m~/ernie/venv/lib/python3.10/site-packages/bertopic/_bertopic.py:3054\u001B[0m, in \u001B[0;36mBERTopic.load\u001B[0;34m(cls, path, embedding_model)\u001B[0m\n\u001B[1;32m   3052\u001B[0m     topics, params, tensors, ctfidf_tensors, ctfidf_config, images \u001B[38;5;241m=\u001B[39m save_utils\u001B[38;5;241m.\u001B[39mload_local_files(file_or_dir)\n\u001B[1;32m   3053\u001B[0m \u001B[38;5;28;01melif\u001B[39;00m \u001B[38;5;124m\"\u001B[39m\u001B[38;5;124m/\u001B[39m\u001B[38;5;124m\"\u001B[39m \u001B[38;5;129;01min\u001B[39;00m \u001B[38;5;28mstr\u001B[39m(path):\n\u001B[0;32m-> 3054\u001B[0m     topics, params, tensors, ctfidf_tensors, ctfidf_config, images \u001B[38;5;241m=\u001B[39m \u001B[43msave_utils\u001B[49m\u001B[38;5;241;43m.\u001B[39;49m\u001B[43mload_files_from_hf\u001B[49m\u001B[43m(\u001B[49m\u001B[43mpath\u001B[49m\u001B[43m)\u001B[49m\n\u001B[1;32m   3055\u001B[0m \u001B[38;5;28;01melse\u001B[39;00m:\n\u001B[1;32m   3056\u001B[0m     \u001B[38;5;28;01mraise\u001B[39;00m \u001B[38;5;167;01mValueError\u001B[39;00m(\u001B[38;5;124m\"\u001B[39m\u001B[38;5;124mMake sure to either pass a valid directory or HF model.\u001B[39m\u001B[38;5;124m\"\u001B[39m)\n",
      "File \u001B[0;32m~/ernie/venv/lib/python3.10/site-packages/bertopic/_save_utils.py:216\u001B[0m, in \u001B[0;36mload_files_from_hf\u001B[0;34m(path)\u001B[0m\n\u001B[1;32m    213\u001B[0m path \u001B[38;5;241m=\u001B[39m \u001B[38;5;28mstr\u001B[39m(path)\n\u001B[1;32m    215\u001B[0m \u001B[38;5;66;03m# Configs\u001B[39;00m\n\u001B[0;32m--> 216\u001B[0m topics \u001B[38;5;241m=\u001B[39m load_cfg_from_json(\u001B[43mhf_hub_download\u001B[49m\u001B[43m(\u001B[49m\u001B[43mpath\u001B[49m\u001B[43m,\u001B[49m\u001B[43m \u001B[49m\u001B[43mTOPICS_NAME\u001B[49m\u001B[43m,\u001B[49m\u001B[43m \u001B[49m\u001B[43mrevision\u001B[49m\u001B[38;5;241;43m=\u001B[39;49m\u001B[38;5;28;43;01mNone\u001B[39;49;00m\u001B[43m)\u001B[49m)\n\u001B[1;32m    217\u001B[0m params \u001B[38;5;241m=\u001B[39m load_cfg_from_json(hf_hub_download(path, CONFIG_NAME, revision\u001B[38;5;241m=\u001B[39m\u001B[38;5;28;01mNone\u001B[39;00m))\n\u001B[1;32m    219\u001B[0m \u001B[38;5;66;03m# Topic Embeddings\u001B[39;00m\n",
      "File \u001B[0;32m~/ernie/venv/lib/python3.10/site-packages/huggingface_hub/utils/_validators.py:110\u001B[0m, in \u001B[0;36mvalidate_hf_hub_args.<locals>._inner_fn\u001B[0;34m(*args, **kwargs)\u001B[0m\n\u001B[1;32m    105\u001B[0m \u001B[38;5;28;01mfor\u001B[39;00m arg_name, arg_value \u001B[38;5;129;01min\u001B[39;00m chain(\n\u001B[1;32m    106\u001B[0m     \u001B[38;5;28mzip\u001B[39m(signature\u001B[38;5;241m.\u001B[39mparameters, args),  \u001B[38;5;66;03m# Args values\u001B[39;00m\n\u001B[1;32m    107\u001B[0m     kwargs\u001B[38;5;241m.\u001B[39mitems(),  \u001B[38;5;66;03m# Kwargs values\u001B[39;00m\n\u001B[1;32m    108\u001B[0m ):\n\u001B[1;32m    109\u001B[0m     \u001B[38;5;28;01mif\u001B[39;00m arg_name \u001B[38;5;129;01min\u001B[39;00m [\u001B[38;5;124m\"\u001B[39m\u001B[38;5;124mrepo_id\u001B[39m\u001B[38;5;124m\"\u001B[39m, \u001B[38;5;124m\"\u001B[39m\u001B[38;5;124mfrom_id\u001B[39m\u001B[38;5;124m\"\u001B[39m, \u001B[38;5;124m\"\u001B[39m\u001B[38;5;124mto_id\u001B[39m\u001B[38;5;124m\"\u001B[39m]:\n\u001B[0;32m--> 110\u001B[0m         \u001B[43mvalidate_repo_id\u001B[49m\u001B[43m(\u001B[49m\u001B[43marg_value\u001B[49m\u001B[43m)\u001B[49m\n\u001B[1;32m    112\u001B[0m     \u001B[38;5;28;01melif\u001B[39;00m arg_name \u001B[38;5;241m==\u001B[39m \u001B[38;5;124m\"\u001B[39m\u001B[38;5;124mtoken\u001B[39m\u001B[38;5;124m\"\u001B[39m \u001B[38;5;129;01mand\u001B[39;00m arg_value \u001B[38;5;129;01mis\u001B[39;00m \u001B[38;5;129;01mnot\u001B[39;00m \u001B[38;5;28;01mNone\u001B[39;00m:\n\u001B[1;32m    113\u001B[0m         has_token \u001B[38;5;241m=\u001B[39m \u001B[38;5;28;01mTrue\u001B[39;00m\n",
      "File \u001B[0;32m~/ernie/venv/lib/python3.10/site-packages/huggingface_hub/utils/_validators.py:164\u001B[0m, in \u001B[0;36mvalidate_repo_id\u001B[0;34m(repo_id)\u001B[0m\n\u001B[1;32m    158\u001B[0m     \u001B[38;5;28;01mraise\u001B[39;00m HFValidationError(\n\u001B[1;32m    159\u001B[0m         \u001B[38;5;124m\"\u001B[39m\u001B[38;5;124mRepo id must be in the form \u001B[39m\u001B[38;5;124m'\u001B[39m\u001B[38;5;124mrepo_name\u001B[39m\u001B[38;5;124m'\u001B[39m\u001B[38;5;124m or \u001B[39m\u001B[38;5;124m'\u001B[39m\u001B[38;5;124mnamespace/repo_name\u001B[39m\u001B[38;5;124m'\u001B[39m\u001B[38;5;124m:\u001B[39m\u001B[38;5;124m\"\u001B[39m\n\u001B[1;32m    160\u001B[0m         \u001B[38;5;124mf\u001B[39m\u001B[38;5;124m\"\u001B[39m\u001B[38;5;124m \u001B[39m\u001B[38;5;124m'\u001B[39m\u001B[38;5;132;01m{\u001B[39;00mrepo_id\u001B[38;5;132;01m}\u001B[39;00m\u001B[38;5;124m'\u001B[39m\u001B[38;5;124m. Use `repo_type` argument if needed.\u001B[39m\u001B[38;5;124m\"\u001B[39m\n\u001B[1;32m    161\u001B[0m     )\n\u001B[1;32m    163\u001B[0m \u001B[38;5;28;01mif\u001B[39;00m \u001B[38;5;129;01mnot\u001B[39;00m REPO_ID_REGEX\u001B[38;5;241m.\u001B[39mmatch(repo_id):\n\u001B[0;32m--> 164\u001B[0m     \u001B[38;5;28;01mraise\u001B[39;00m HFValidationError(\n\u001B[1;32m    165\u001B[0m         \u001B[38;5;124m\"\u001B[39m\u001B[38;5;124mRepo id must use alphanumeric chars or \u001B[39m\u001B[38;5;124m'\u001B[39m\u001B[38;5;124m-\u001B[39m\u001B[38;5;124m'\u001B[39m\u001B[38;5;124m, \u001B[39m\u001B[38;5;124m'\u001B[39m\u001B[38;5;124m_\u001B[39m\u001B[38;5;124m'\u001B[39m\u001B[38;5;124m, \u001B[39m\u001B[38;5;124m'\u001B[39m\u001B[38;5;124m.\u001B[39m\u001B[38;5;124m'\u001B[39m\u001B[38;5;124m, \u001B[39m\u001B[38;5;124m'\u001B[39m\u001B[38;5;124m--\u001B[39m\u001B[38;5;124m'\u001B[39m\u001B[38;5;124m and \u001B[39m\u001B[38;5;124m'\u001B[39m\u001B[38;5;124m..\u001B[39m\u001B[38;5;124m'\u001B[39m\u001B[38;5;124m are\u001B[39m\u001B[38;5;124m\"\u001B[39m\n\u001B[1;32m    166\u001B[0m         \u001B[38;5;124m\"\u001B[39m\u001B[38;5;124m forbidden, \u001B[39m\u001B[38;5;124m'\u001B[39m\u001B[38;5;124m-\u001B[39m\u001B[38;5;124m'\u001B[39m\u001B[38;5;124m and \u001B[39m\u001B[38;5;124m'\u001B[39m\u001B[38;5;124m.\u001B[39m\u001B[38;5;124m'\u001B[39m\u001B[38;5;124m cannot start or end the name, max length is 96:\u001B[39m\u001B[38;5;124m\"\u001B[39m\n\u001B[1;32m    167\u001B[0m         \u001B[38;5;124mf\u001B[39m\u001B[38;5;124m\"\u001B[39m\u001B[38;5;124m \u001B[39m\u001B[38;5;124m'\u001B[39m\u001B[38;5;132;01m{\u001B[39;00mrepo_id\u001B[38;5;132;01m}\u001B[39;00m\u001B[38;5;124m'\u001B[39m\u001B[38;5;124m.\u001B[39m\u001B[38;5;124m\"\u001B[39m\n\u001B[1;32m    168\u001B[0m     )\n\u001B[1;32m    170\u001B[0m \u001B[38;5;28;01mif\u001B[39;00m \u001B[38;5;124m\"\u001B[39m\u001B[38;5;124m--\u001B[39m\u001B[38;5;124m\"\u001B[39m \u001B[38;5;129;01min\u001B[39;00m repo_id \u001B[38;5;129;01mor\u001B[39;00m \u001B[38;5;124m\"\u001B[39m\u001B[38;5;124m..\u001B[39m\u001B[38;5;124m\"\u001B[39m \u001B[38;5;129;01min\u001B[39;00m repo_id:\n\u001B[1;32m    171\u001B[0m     \u001B[38;5;28;01mraise\u001B[39;00m HFValidationError(\u001B[38;5;124mf\u001B[39m\u001B[38;5;124m\"\u001B[39m\u001B[38;5;124mCannot have -- or .. in repo_id: \u001B[39m\u001B[38;5;124m'\u001B[39m\u001B[38;5;132;01m{\u001B[39;00mrepo_id\u001B[38;5;132;01m}\u001B[39;00m\u001B[38;5;124m'\u001B[39m\u001B[38;5;124m.\u001B[39m\u001B[38;5;124m\"\u001B[39m)\n",
      "\u001B[0;31mHFValidationError\u001B[0m: Repo id must use alphanumeric chars or '-', '_', '.', '--' and '..' are forbidden, '-' and '.' cannot start or end the name, max length is 96: '../model'."
     ]
    }
   ],
   "source": [
    "import os.path\n",
    "import asyncio\n",
    "import pickle as pkl\n",
    "\n",
    "from bertopic import BERTopic\n",
    "\n",
    "topic_model = BERTopic.load(\"/home/s371513/ernie/model\")"
   ],
   "metadata": {
    "collapsed": false,
    "ExecuteTime": {
     "end_time": "2024-02-27T04:33:38.833246Z",
     "start_time": "2024-02-27T04:33:38.251794400Z"
    }
   },
   "id": "initial_id"
  },
  {
   "cell_type": "markdown",
   "source": [
    "### Label Topics"
   ],
   "metadata": {
    "collapsed": false
   },
   "id": "1f5a764be83b8ec8"
  },
  {
   "cell_type": "code",
   "execution_count": null,
   "outputs": [],
   "source": [
    "custom_topics = {}\n",
    "\n",
    "for i in range(len(topic_model.get_topic_info())):\n",
    "    topic = input(\"----------------------------\\nTopics already created: \\n{}\\n----------Topic {}----------\\n{}\\n----------------------------\".format(set(custom_topics.values()), str(i),topic_model.get_topic(i)))\n",
    "    custom_topics[i] = topic\n",
    "\n",
    "with open('custom_topics.pkl', 'wb+') as f:\n",
    "    pkl.dump(custom_topics, f)"
   ],
   "metadata": {
    "collapsed": false
   },
   "id": "ce6edb44c0b1dfa7"
  },
  {
   "cell_type": "markdown",
   "source": [
    "### Match Topics"
   ],
   "metadata": {
    "collapsed": false
   },
   "id": "89079ffdc522f441"
  },
  {
   "cell_type": "code",
   "execution_count": null,
   "outputs": [],
   "source": [
    "    if os.path.isfile(os.path.join(cfg.base_path(), \"custom_topics.pkl\")):\n",
    "        with open(os.path.join(cfg.base_path(), \"custom_topics.pkl\"), 'rb') as f:\n",
    "            print(\"Loading custom topics...\")\n",
    "            topic_dictionary = pkl.load(f)\n",
    "\n",
    "            print(\"Reading texts...\")\n",
    "            file_names, _ = read_text(\"preprocessed.txt\")\n",
    "\n",
    "            print(\"Applying topics to files in batches of {}...\".format(chunk_size))\n",
    "            file_chunks = [file_names[i:i + chunk_size] for i in range(0, len(file_names), chunk_size)]\n",
    "\n",
    "            c = 1\n",
    "            for file_chunk in file_chunks:\n",
    "                print(\"-\" * 16)\n",
    "                print(\"Batch {} of {}\".format(c, len(file_chunks)))\n",
    "                print(\"-\" * 16)\n",
    "                loop = tqdm(file_chunk)\n",
    "\n",
    "                corrupted_files = 0\n",
    "\n",
    "                for topic_index, doc_file in enumerate(loop):\n",
    "                    with open(os.path.join(cfg.gdelt_out(), doc_file), \"rb\") as d:\n",
    "                        try:\n",
    "                            document = pkl.load(d)\n",
    "                            d.close()\n",
    "                            document.topic_information = topic_dictionary[topic_index]\n",
    "                            document.save_document()\n",
    "\n",
    "                        except EOFError as _:\n",
    "                            corrupted_files += 1\n",
    "                            loop.set_postfix_str(\"Coruppted files: {}\".format(corrupted_files))\n",
    "\n",
    "                        d.close()\n",
    "                c += 1\n",
    "    else:\n",
    "        print(\"No file of custom topics found, execute label_topics() first!\")"
   ],
   "metadata": {
    "collapsed": false
   },
   "id": "11209d403dc53006"
  }
 ],
 "metadata": {
  "kernelspec": {
   "display_name": "Python 3",
   "language": "python",
   "name": "python3"
  },
  "language_info": {
   "codemirror_mode": {
    "name": "ipython",
    "version": 2
   },
   "file_extension": ".py",
   "mimetype": "text/x-python",
   "name": "python",
   "nbconvert_exporter": "python",
   "pygments_lexer": "ipython2",
   "version": "2.7.6"
  }
 },
 "nbformat": 4,
 "nbformat_minor": 5
}
