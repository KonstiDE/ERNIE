{
 "cells": [
  {
   "cell_type": "markdown",
   "source": [
    "# (Individualize) Plotting script"
   ],
   "metadata": {
    "collapsed": false
   },
   "id": "662e9576d8793c95"
  },
  {
   "cell_type": "code",
   "execution_count": null,
   "outputs": [],
   "source": [
    "import os\n",
    "os.chdir(\"/home/s371513/ernie\")\n",
    "\n",
    "import models\n",
    "\n",
    "import pickle as pkl\n",
    "import pandas as pd\n",
    "\n",
    "from tqdm import tqdm\n",
    "from plotting.wrapper import wrap_plot as plot\n",
    "\n",
    "chunk_size = 10000\n",
    "\n"
   ],
   "metadata": {
    "collapsed": false,
    "is_executing": true
   },
   "id": "c204f4a9411986f4"
  },
  {
   "cell_type": "code",
   "execution_count": null,
   "outputs": [
    {
     "name": "stderr",
     "output_type": "stream",
     "text": [
      "Batch 1 of 18: 100%|██████████| 10000/10000 [00:05<00:00, 1865.80it/s]\n",
      "Batch 2 of 18: 100%|██████████| 10000/10000 [00:06<00:00, 1589.95it/s]\n",
      "Batch 3 of 18: 100%|██████████| 10000/10000 [00:05<00:00, 1886.74it/s]\n",
      "Batch 4 of 18: 100%|██████████| 10000/10000 [00:05<00:00, 1715.67it/s]\n",
      "Batch 5 of 18: 100%|██████████| 10000/10000 [00:05<00:00, 1683.22it/s]\n",
      "Batch 6 of 18: 100%|██████████| 10000/10000 [00:05<00:00, 1689.89it/s]\n",
      "Batch 7 of 18:  22%|██▏       | 2216/10000 [00:03<00:41, 188.64it/s] "
     ]
    }
   ],
   "source": [
    "with open(os.path.join(\"custom_topics.pkl\"), \"rb\") as t:\n",
    "    custom_topics = pkl.load(t)\n",
    "\n",
    "    dfs = []\n",
    "\n",
    "    documents = os.listdir(\"data/out/noto\")\n",
    "\n",
    "    file_chunks = [documents[i:i + chunk_size] for i in range(0, len(documents), chunk_size)]\n",
    "\n",
    "    c = 1\n",
    "    for file_chunk in file_chunks:\n",
    "        loop = tqdm(file_chunk)\n",
    "        loop.set_description_str(\"Batch {} of {}\".format(c, len(file_chunks)))\n",
    "\n",
    "        docs = []\n",
    "\n",
    "        corrupted_files = 0\n",
    "\n",
    "        for doc_file in loop:\n",
    "            with open(os.path.join(\"data/out/noto\", doc_file), \"rb\") as d:\n",
    "                try:\n",
    "                    document = pkl.load(d)\n",
    "\n",
    "                    if document.topic_information is not None:\n",
    "                        docs.append(document)\n",
    "\n",
    "                except EOFError as _:\n",
    "                    corrupted_files += 1\n",
    "                    loop.set_postfix_str(\"Corrupted files: {}\".format(corrupted_files))\n",
    "\n",
    "                d.close()\n",
    "\n",
    "        chunk_df = pd.DataFrame([vars(doc) for doc in docs])\n",
    "        dfs.append(chunk_df)\n",
    "\n",
    "        c += 1\n",
    "\n",
    "    df = pd.concat(dfs)"
   ],
   "metadata": {
    "collapsed": false,
    "is_executing": true,
    "ExecuteTime": {
     "start_time": "2024-03-22T05:46:32.046318800Z"
    }
   },
   "id": "e7c201488b82959a"
  },
  {
   "cell_type": "code",
   "execution_count": null,
   "outputs": [],
   "source": [
    "df[\"date\"] = pd.to_datetime(df[\"date\"], format=\"%Y%m%d%H%M%S\")\n",
    "df[\"date\"] = df[\"date\"].dt.round('1h')"
   ],
   "metadata": {
    "collapsed": false
   },
   "id": "999ea31bb0e87f1e"
  }
 ],
 "metadata": {
  "kernelspec": {
   "display_name": "Python 3",
   "language": "python",
   "name": "python3"
  },
  "language_info": {
   "codemirror_mode": {
    "name": "ipython",
    "version": 2
   },
   "file_extension": ".py",
   "mimetype": "text/x-python",
   "name": "python",
   "nbconvert_exporter": "python",
   "pygments_lexer": "ipython2",
   "version": "2.7.6"
  }
 },
 "nbformat": 4,
 "nbformat_minor": 5
}
